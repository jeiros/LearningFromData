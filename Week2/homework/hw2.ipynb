{
 "cells": [
  {
   "cell_type": "code",
   "execution_count": null,
   "metadata": {
    "collapsed": false
   },
   "outputs": [],
   "source": [
    "import random as rd\n",
    "%pylab inline\n",
    "import seaborn as sns"
   ]
  },
  {
   "cell_type": "markdown",
   "metadata": {},
   "source": [
    "Hoeffding Inequality\n",
    "Run a computer simulation for flipping 1,000 virtual fair coins. Flip each coin inde- pendently 10 times. Focus on 3 coins as follows: c1 is the first coin flipped, crand is a coin chosen randomly from the 1,000, and cmin is the coin which had the minimum frequency of heads (pick the earlier one in case of a tie). Let ν1, νrand, and νmin be the fraction of heads obtained for the 3 respective coins out of the 10 tosses.\n",
    "Run the experiment 100,000 times in order to get a full distribution of ν1, νrand, and νmin (note that crand and cmin will change from run to run).\n",
    "\n",
    "1. The average value of νmin is closest to:\n",
    "\n",
    "    - [a] 0\n",
    "\n",
    "    - [b] 0.01\n",
    "\n",
    "    - [c] 0.1\n",
    "\n",
    "    - [d] 0.5\n",
    "\n",
    "    - [e] 0.67\n",
    "\n",
    "2. Which coin(s) has a distribution of ν that satisfies the (single-bin) Hoeffding\n",
    "Inequality?\n",
    "\n",
    "    - [a] c1 only\n",
    "\n",
    "    - [b] crand only\n",
    "\n",
    "    - [c] cmin only\n",
    "\n",
    "    - [d] c1 and crand\n",
    "\n",
    "    - [e] cmin and crand\n",
    "\n"
   ]
  },
  {
   "cell_type": "code",
   "execution_count": null,
   "metadata": {
    "collapsed": true
   },
   "outputs": [],
   "source": [
    "class Flipper(object):\n",
    "\n",
    "    def __init__(self, total_coins):\n",
    "        self.total_coins = total_coins\n",
    "\n",
    "    def _flipSingleCoin(self):\n",
    "        return(rd.choice(['h', 't']))\n",
    "\n",
    "    def _get_HeadsFraction(self, single_trial):\n",
    "        return(single_trial.count('h') / len(single_trial))\n",
    "\n",
    "    def flipAllCoins(self, trials=10):\n",
    "        results = []\n",
    "        for coin in range(self.total_coins):\n",
    "            sequence = []\n",
    "            for trial in range(trials):\n",
    "                sequence.append(self._flipSingleCoin())\n",
    "            results.append(sequence)\n",
    "        return(results)\n",
    "\n",
    "    def pick_TheThreeCoins(self, results):\n",
    "        c_1 = results[0]\n",
    "        c_rand = rd.sample(results, k=1)[0]\n",
    "        c_min = results[0]\n",
    "        n_heads = c_min.count('h')\n",
    "        for r in results:\n",
    "            new_n_heads = r.count('h')\n",
    "            if new_n_heads < n_heads:\n",
    "                c_min = r\n",
    "                n_heads = new_n_heads\n",
    "        return(c_1, c_rand, c_min)\n"
   ]
  },
  {
   "cell_type": "code",
   "execution_count": null,
   "metadata": {
    "collapsed": false
   },
   "outputs": [],
   "source": [
    "ITER = 100000\n",
    "v_1_list = []\n",
    "v_rand_list = []\n",
    "v_min_list = []\n",
    "for _ in range(ITER):\n",
    "    p = Flipper(total_coins=1000)\n",
    "    r = p.flipAllCoins(trials=10)\n",
    "    c_1, c_rand, c_min = p.pick_TheThreeCoins(r)\n",
    "    v_1_list.append(p._get_HeadsFraction(c_1))\n",
    "    v_rand_list.append(p._get_HeadsFraction(c_rand))\n",
    "    v_min_list.append(p._get_HeadsFraction(c_min))"
   ]
  },
  {
   "cell_type": "code",
   "execution_count": null,
   "metadata": {
    "collapsed": false
   },
   "outputs": [],
   "source": [
    "sns.distplot(np.array(v_min_list), hist=False, label='$\\\\nu_{min}$')\n",
    "sns.distplot(np.array(v_1_list), hist=False, label='$\\\\nu_{1}$')\n",
    "sns.distplot(np.array(v_rand_list), hist=False, label='$\\\\nu_{rand}$')\n",
    "plt.legend()"
   ]
  },
  {
   "cell_type": "markdown",
   "metadata": {},
   "source": [
    "Linear regression"
   ]
  },
  {
   "cell_type": "code",
   "execution_count": null,
   "metadata": {
    "collapsed": true
   },
   "outputs": [],
   "source": [
    "values = np.random.uniform(-1, 1, size=(100,2))"
   ]
  },
  {
   "cell_type": "code",
   "execution_count": null,
   "metadata": {
    "collapsed": true
   },
   "outputs": [],
   "source": []
  },
  {
   "cell_type": "code",
   "execution_count": 10,
   "metadata": {
    "collapsed": true
   },
   "outputs": [],
   "source": [
    "p = LinearRegression(N_points=10)"
   ]
  },
  {
   "cell_type": "code",
   "execution_count": 12,
   "metadata": {
    "collapsed": false
   },
   "outputs": [],
   "source": [
    "points, V = p.generate_points()\n",
    "w = p.estimate_line(points)"
   ]
  },
  {
   "cell_type": "code",
   "execution_count": 13,
   "metadata": {
    "collapsed": false
   },
   "outputs": [
    {
     "data": {
      "image/png": "[encoded data removed]",
      "text/plain": [
       "<matplotlib.figure.Figure at 0x11a0bc208>"
      ]
     },
     "metadata": {},
     "output_type": "display_data"
    }
   ],
   "source": [
    "p.plot()"
   ]
  },
  {
   "cell_type": "code",
   "execution_count": 14,
   "metadata": {
    "collapsed": false
   },
   "outputs": [],
   "source": [
    "foo = p.estimate_Ein()"
   ]
  },
  {
   "cell_type": "code",
   "execution_count": 15,
   "metadata": {
    "collapsed": false
   },
   "outputs": [
    {
     "data": {
      "text/plain": [
       "0.0"
      ]
     },
     "execution_count": 15,
     "metadata": {},
     "output_type": "execute_result"
    }
   ],
   "source": [
    "foo"
   ]
  },
  {
   "cell_type": "code",
   "execution_count": 20,
   "metadata": {
    "collapsed": false,
    "scrolled": true
   },
   "outputs": [],
   "source": [
    "N_ITER = 1000\n",
    "Ein_fraction_count = []\n",
    "Eout_fraction_count = []\n",
    "w_list = []\n",
    "V_list = []\n",
    "for _ in range(0, N_ITER):\n",
    "    p = LinearRegression(N_points=100)\n",
    "    points, V = p.generate_points()\n",
    "    w = p.estimate_line(points)\n",
    "    w_list.append(w)\n",
    "    V_list.append(V)\n",
    "    errors = 100 - np.count_nonzero(np.sign(w.T.dot(points[:, 0:3].T)) == points[:, 3])\n",
    "    Ein_fraction_count.append(errors / 100)\n",
    "\n",
    "    # Now generate 1000 fresh points\n",
    "    new_points = LinearRegression(1000).generate_points()[0][:, 0:3]\n",
    "    errors_outside = 1000 - np.count_nonzero(np.sign(w.T.dot(new_points.T)) == np.sign(V.T.dot(new_points.T)))\n",
    "    Eout_fraction_count.append(errors_outside / 1000)"
   ]
  },
  {
   "cell_type": "code",
   "execution_count": 21,
   "metadata": {
    "collapsed": false
   },
   "outputs": [
    {
     "data": {
      "text/plain": [
       "<matplotlib.axes._subplots.AxesSubplot at 0x11c9170b8>"
      ]
     },
     "execution_count": 21,
     "metadata": {},
     "output_type": "execute_result"
    },
    {
     "data": {
      "image/png": "[encoded data removed]",
      "text/plain": [
       "<matplotlib.figure.Figure at 0x11c91f198>"
      ]
     },
     "metadata": {},
     "output_type": "display_data"
    }
   ],
   "source": [
    "sns.distplot(np.array(Eout_fraction_count))"
   ]
  },
  {
   "cell_type": "code",
   "execution_count": 22,
   "metadata": {
    "collapsed": false
   },
   "outputs": [
    {
     "data": {
      "text/plain": [
       "0.048596000000000014"
      ]
     },
     "execution_count": 22,
     "metadata": {},
     "output_type": "execute_result"
    }
   ],
   "source": [
    "np.array(Eout_fraction_count).mean()"
   ]
  },
  {
   "cell_type": "markdown",
   "metadata": {},
   "source": [
    "# Perceptron"
   ]
  },
  {
   "cell_type": "code",
   "execution_count": 23,
   "metadata": {
    "collapsed": false
   },
   "outputs": [],
   "source": [
    "def pla(w, points):\n",
    "    errors = len(points) - np.count_nonzero(np.sign(w.T.dot(points[:, 0:3].T)) == points[:, 3])\n",
    "    it = 0\n",
    "    while errors != 0:\n",
    "        missclassified_points = points[np.sign(w.T.dot(points[:, 0:3].T)) != points[:, 3]]\n",
    "        random_missclass_point = missclassified_points[random.randrange(0, len(missclassified_points))]\n",
    "        #print('Errors before update: %d' % errors)\n",
    "        w += random_missclass_point[3] * random_missclass_point[0:3]\n",
    "        it += 1\n",
    "        errors = len(points) - np.count_nonzero(np.sign(w.T.dot(points[:, 0:3].T)) == points[:, 3])\n",
    "        #print('Errors after update: %d' % errors)\n",
    "    return(w, it)"
   ]
  },
  {
   "cell_type": "code",
   "execution_count": 24,
   "metadata": {
    "collapsed": false
   },
   "outputs": [
    {
     "ename": "AttributeError",
     "evalue": "module 'numpy.random' has no attribute 'randrange'",
     "output_type": "error",
     "traceback": [
      "\u001b[0;31m---------------------------------------------------------------------------\u001b[0m",
      "\u001b[0;31mAttributeError\u001b[0m                            Traceback (most recent call last)",
      "\u001b[0;32m<ipython-input-24-f172c52c4829>\u001b[0m in \u001b[0;36m<module>\u001b[0;34m()\u001b[0m\n\u001b[1;32m      4\u001b[0m     \u001b[0mpoints\u001b[0m\u001b[0;34m,\u001b[0m \u001b[0mV\u001b[0m \u001b[0;34m=\u001b[0m \u001b[0mp\u001b[0m\u001b[0;34m.\u001b[0m\u001b[0mgenerate_points\u001b[0m\u001b[0;34m(\u001b[0m\u001b[0;34m)\u001b[0m\u001b[0;34m\u001b[0m\u001b[0m\n\u001b[1;32m      5\u001b[0m     \u001b[0mw\u001b[0m \u001b[0;34m=\u001b[0m \u001b[0mp\u001b[0m\u001b[0;34m.\u001b[0m\u001b[0mestimate_line\u001b[0m\u001b[0;34m(\u001b[0m\u001b[0mpoints\u001b[0m\u001b[0;34m)\u001b[0m\u001b[0;34m\u001b[0m\u001b[0m\n\u001b[0;32m----> 6\u001b[0;31m     \u001b[0mits\u001b[0m\u001b[0;34m.\u001b[0m\u001b[0mappend\u001b[0m\u001b[0;34m(\u001b[0m\u001b[0mpla\u001b[0m\u001b[0;34m(\u001b[0m\u001b[0mw\u001b[0m\u001b[0;34m,\u001b[0m \u001b[0mpoints\u001b[0m\u001b[0;34m)\u001b[0m\u001b[0;34m[\u001b[0m\u001b[0;36m1\u001b[0m\u001b[0;34m]\u001b[0m\u001b[0;34m)\u001b[0m\u001b[0;34m\u001b[0m\u001b[0m\n\u001b[0m",
      "\u001b[0;32m<ipython-input-23-a6853b8e34f3>\u001b[0m in \u001b[0;36mpla\u001b[0;34m(w, points)\u001b[0m\n\u001b[1;32m      4\u001b[0m     \u001b[0;32mwhile\u001b[0m \u001b[0merrors\u001b[0m \u001b[0;34m!=\u001b[0m \u001b[0;36m0\u001b[0m\u001b[0;34m:\u001b[0m\u001b[0;34m\u001b[0m\u001b[0m\n\u001b[1;32m      5\u001b[0m         \u001b[0mmissclassified_points\u001b[0m \u001b[0;34m=\u001b[0m \u001b[0mpoints\u001b[0m\u001b[0;34m[\u001b[0m\u001b[0mnp\u001b[0m\u001b[0;34m.\u001b[0m\u001b[0msign\u001b[0m\u001b[0;34m(\u001b[0m\u001b[0mw\u001b[0m\u001b[0;34m.\u001b[0m\u001b[0mT\u001b[0m\u001b[0;34m.\u001b[0m\u001b[0mdot\u001b[0m\u001b[0;34m(\u001b[0m\u001b[0mpoints\u001b[0m\u001b[0;34m[\u001b[0m\u001b[0;34m:\u001b[0m\u001b[0;34m,\u001b[0m \u001b[0;36m0\u001b[0m\u001b[0;34m:\u001b[0m\u001b[0;36m3\u001b[0m\u001b[0;34m]\u001b[0m\u001b[0;34m.\u001b[0m\u001b[0mT\u001b[0m\u001b[0;34m)\u001b[0m\u001b[0;34m)\u001b[0m \u001b[0;34m!=\u001b[0m \u001b[0mpoints\u001b[0m\u001b[0;34m[\u001b[0m\u001b[0;34m:\u001b[0m\u001b[0;34m,\u001b[0m \u001b[0;36m3\u001b[0m\u001b[0;34m]\u001b[0m\u001b[0;34m]\u001b[0m\u001b[0;34m\u001b[0m\u001b[0m\n\u001b[0;32m----> 6\u001b[0;31m         \u001b[0mrandom_missclass_point\u001b[0m \u001b[0;34m=\u001b[0m \u001b[0mmissclassified_points\u001b[0m\u001b[0;34m[\u001b[0m\u001b[0mrandom\u001b[0m\u001b[0;34m.\u001b[0m\u001b[0mrandrange\u001b[0m\u001b[0;34m(\u001b[0m\u001b[0;36m0\u001b[0m\u001b[0;34m,\u001b[0m \u001b[0mlen\u001b[0m\u001b[0;34m(\u001b[0m\u001b[0mmissclassified_points\u001b[0m\u001b[0;34m)\u001b[0m\u001b[0;34m)\u001b[0m\u001b[0;34m]\u001b[0m\u001b[0;34m\u001b[0m\u001b[0m\n\u001b[0m\u001b[1;32m      7\u001b[0m         \u001b[0;31m#print('Errors before update: %d' % errors)\u001b[0m\u001b[0;34m\u001b[0m\u001b[0;34m\u001b[0m\u001b[0m\n\u001b[1;32m      8\u001b[0m         \u001b[0mw\u001b[0m \u001b[0;34m+=\u001b[0m \u001b[0mrandom_missclass_point\u001b[0m\u001b[0;34m[\u001b[0m\u001b[0;36m3\u001b[0m\u001b[0;34m]\u001b[0m \u001b[0;34m*\u001b[0m \u001b[0mrandom_missclass_point\u001b[0m\u001b[0;34m[\u001b[0m\u001b[0;36m0\u001b[0m\u001b[0;34m:\u001b[0m\u001b[0;36m3\u001b[0m\u001b[0;34m]\u001b[0m\u001b[0;34m\u001b[0m\u001b[0m\n",
      "\u001b[0;31mAttributeError\u001b[0m: module 'numpy.random' has no attribute 'randrange'"
     ]
    }
   ],
   "source": [
    "its = []\n",
    "for _ in range(0, 1000):\n",
    "    p = LinearRegression(10)\n",
    "    points, V = p.generate_points()\n",
    "    w = p.estimate_line(points)\n",
    "    its.append(pla(w, points)[1])"
   ]
  },
  {
   "cell_type": "code",
   "execution_count": null,
   "metadata": {
    "collapsed": false
   },
   "outputs": [],
   "source": [
    "np.array(its).mean()"
   ]
  },
  {
   "cell_type": "markdown",
   "metadata": {},
   "source": [
    "# Nonlinear Transformation"
   ]
  },
  {
   "cell_type": "markdown",
   "metadata": {},
   "source": [
    "In these problems, we again apply Linear Regression for classification. Consider the\n",
    "target function:\n",
    "\n",
    "$$f(x_1, x_2) = sign(x_1^2 + x_2^2 - 0.6)$$\n",
    "\n",
    "Generate a training set of N = 1000 points on X = [−1, 1] × [−1, 1] with a uniform probability of picking each x ∈ X . Generate simulated noise by flipping the sign of the output in a randomly selected 10% subset of the generated training set.\n"
   ]
  },
  {
   "cell_type": "code",
   "execution_count": 1,
   "metadata": {
    "collapsed": false
   },
   "outputs": [
    {
     "name": "stderr",
     "output_type": "stream",
     "text": [
      "/Users/je714/anaconda3/lib/python3.5/site-packages/matplotlib/__init__.py:461: UserWarning: matplotlibrc ps.usedistiller can not be set to xpdf unless xpdf-3.0 or later is installed on your system\n",
      "  'your system') % pdftops_req)\n"
     ]
    },
    {
     "name": "stdout",
     "output_type": "stream",
     "text": [
      "Populating the interactive namespace from numpy and matplotlib\n"
     ]
    }
   ],
   "source": [
    "from LinearRegression import LinearRegression\n",
    "import random as rd\n",
    "%pylab inline\n",
    "import seaborn as sns"
   ]
  },
  {
   "cell_type": "code",
   "execution_count": 2,
   "metadata": {
    "collapsed": false
   },
   "outputs": [],
   "source": [
    "p = LinearRegression(1000)\n",
    "points = p.generate_Noisy_points()\n",
    "w = p.estimate_line(points)"
   ]
  },
  {
   "cell_type": "code",
   "execution_count": 3,
   "metadata": {
    "collapsed": false
   },
   "outputs": [
    {
     "data": {
      "image/png": "[encoded data removed]",
      "text/plain": [
       "<matplotlib.figure.Figure at 0x105486940>"
      ]
     },
     "metadata": {},
     "output_type": "display_data"
    }
   ],
   "source": [
    "p.plot()"
   ]
  },
  {
   "cell_type": "code",
   "execution_count": 4,
   "metadata": {
    "collapsed": false
   },
   "outputs": [
    {
     "data": {
      "text/plain": [
       "0.547"
      ]
     },
     "execution_count": 4,
     "metadata": {},
     "output_type": "execute_result"
    }
   ],
   "source": [
    "p.estimate_Ein()"
   ]
  },
  {
   "cell_type": "code",
   "execution_count": null,
   "metadata": {
    "collapsed": true
   },
   "outputs": [],
   "source": [
    "Ein_list = []\n",
    "for _ in range(0, 1000):\n",
    "    p = LinearRegression(1000)\n",
    "    points = p.generate_Noisy_points()\n",
    "    w = p.estimate_line()\n",
    "    Ein_list.append(p.estimate_Ein())"
   ]
  },
  {
   "cell_type": "code",
   "execution_count": null,
   "metadata": {
    "collapsed": false
   },
   "outputs": [],
   "source": [
    "np.array(Ein_list).mean()"
   ]
  },
  {
   "cell_type": "code",
   "execution_count": null,
   "metadata": {
    "collapsed": false
   },
   "outputs": [],
   "source": [
    "sns.distplot(np.array(Ein_list))"
   ]
  },
  {
   "cell_type": "markdown",
   "metadata": {},
   "source": [
    "## Now transform data"
   ]
  },
  {
   "cell_type": "code",
   "execution_count": 9,
   "metadata": {
    "collapsed": false
   },
   "outputs": [],
   "source": [
    "p = LinearRegression(1000)\n",
    "points = p.generate_Noisy_points()\n",
    "trans_points = p.transformInput()\n",
    "w_lin = p.estimate_line(points)\n",
    "w_nonlin = p.estimate_line(trans_points)"
   ]
  },
  {
   "cell_type": "code",
   "execution_count": 19,
   "metadata": {
    "collapsed": false
   },
   "outputs": [],
   "source": [
    "x1, x2 = [rd.uniform(-1, 1) for i in range(2)]"
   ]
  },
  {
   "cell_type": "code",
   "execution_count": 29,
   "metadata": {
    "collapsed": false
   },
   "outputs": [],
   "source": [
    "hyp_dict = {\n",
    "    'g_a' : int(np.sign(-1 - 0.05*x1 + 0.08*x2 + 0.13*x1*x2 + 1.50*x1*x1 + 1.50*x2*x2)),\n",
    "    'g_b' : int(np.sign(-1 - 0.05*x1 + 0.08*x2 + 0.13*x1*x2 + 1.50*x1*x1 + 15.0*x2*x2)),\n",
    "    'g_c' : int(np.sign(-1 - 0.05*x1 + 0.08*x2 + 0.13*x1*x2 + 15.0*x1*x1 + 1.50*x2*x2)),\n",
    "    'g_d' : int(np.sign(-1 - 1.50*x1 + 0.08*x2 + 0.13*x1*x2 + 0.05*x1*x1 + 0.05*x2*x2)),\n",
    "    'g_e' : int(np.sign(-1 - 0.05*x1 + 0.08*x2 + 1.50*x1*x2 + 0.15*x1*x1 + 0.15*x2*x2))\n",
    "}"
   ]
  },
  {
   "cell_type": "code",
   "execution_count": 30,
   "metadata": {
    "collapsed": false
   },
   "outputs": [
    {
     "data": {
      "text/plain": [
       "array([-0.98320865,  0.01177245, -0.02074938,  0.1391018 ,  1.55025927,\n",
       "        1.56816626])"
      ]
     },
     "execution_count": 30,
     "metadata": {},
     "output_type": "execute_result"
    }
   ],
   "source": [
    "w_nonlin"
   ]
  },
  {
   "cell_type": "code",
   "execution_count": 31,
   "metadata": {
    "collapsed": true
   },
   "outputs": [],
   "source": [
    "rand_point = np.array([1, x1, x2, x1*x2, x1*x1, x1*x2])"
   ]
  },
  {
   "cell_type": "code",
   "execution_count": 35,
   "metadata": {
    "collapsed": false
   },
   "outputs": [],
   "source": [
    "my_pred = np.sign(w_nonlin.T.dot(rand_point))"
   ]
  },
  {
   "cell_type": "code",
   "execution_count": 40,
   "metadata": {
    "collapsed": false
   },
   "outputs": [],
   "source": [
    "hyp_count = {\n",
    "    'g_a': 0,\n",
    "    'g_b': 0,\n",
    "    'g_c': 0,\n",
    "    'g_d': 0,\n",
    "    'g_e': 0\n",
    "}\n",
    "\n",
    "for hyp_name, hyp_value in hyp_dict.items():\n",
    "    if hyp_value == my_pred:\n",
    "        hyp_count[hyp_name] += 1"
   ]
  },
  {
   "cell_type": "code",
   "execution_count": 41,
   "metadata": {
    "collapsed": false
   },
   "outputs": [
    {
     "data": {
      "text/plain": [
       "{'g_a': 1, 'g_b': 0, 'g_c': 1, 'g_d': 1, 'g_e': 1}"
      ]
     },
     "execution_count": 41,
     "metadata": {},
     "output_type": "execute_result"
    }
   ],
   "source": [
    "hyp_count"
   ]
  },
  {
   "cell_type": "code",
   "execution_count": 50,
   "metadata": {
    "collapsed": false
   },
   "outputs": [
    {
     "name": "stdout",
     "output_type": "stream",
     "text": [
      "{'g_a': 682, 'g_e': 856, 'g_b': 353, 'g_c': 363, 'g_d': 808}\n",
      "{'g_a': 692, 'g_e': 839, 'g_b': 372, 'g_c': 386, 'g_d': 779}\n",
      "{'g_a': 686, 'g_e': 838, 'g_b': 344, 'g_c': 369, 'g_d': 795}\n",
      "{'g_a': 695, 'g_e': 838, 'g_b': 386, 'g_c': 388, 'g_d': 796}\n",
      "{'g_a': 724, 'g_e': 823, 'g_b': 386, 'g_c': 422, 'g_d': 787}\n",
      "{'g_a': 703, 'g_e': 859, 'g_b': 359, 'g_c': 358, 'g_d': 798}\n",
      "{'g_a': 724, 'g_e': 842, 'g_b': 384, 'g_c': 376, 'g_d': 782}\n",
      "{'g_a': 699, 'g_e': 846, 'g_b': 366, 'g_c': 381, 'g_d': 767}\n",
      "{'g_a': 710, 'g_e': 819, 'g_b': 398, 'g_c': 412, 'g_d': 790}\n",
      "{'g_a': 711, 'g_e': 834, 'g_b': 385, 'g_c': 412, 'g_d': 798}\n",
      "{'g_a': 698, 'g_e': 845, 'g_b': 370, 'g_c': 371, 'g_d': 785}\n",
      "{'g_a': 699, 'g_e': 833, 'g_b': 376, 'g_c': 385, 'g_d': 796}\n",
      "{'g_a': 708, 'g_e': 825, 'g_b': 391, 'g_c': 414, 'g_d': 765}\n",
      "{'g_a': 739, 'g_e': 808, 'g_b': 403, 'g_c': 396, 'g_d': 762}\n",
      "{'g_a': 710, 'g_e': 834, 'g_b': 382, 'g_c': 398, 'g_d': 785}\n"
     ]
    }
   ],
   "source": [
    "for _ in range(0, 15):\n",
    "    p = LinearRegression(1000)\n",
    "    points = p.generate_Noisy_points()\n",
    "    trans_points = p.transformInput()\n",
    "    w_nonlin = p.estimate_line(trans_points)\n",
    "\n",
    "    hyp_count = {\n",
    "        'g_a': 0,\n",
    "        'g_b': 0,\n",
    "        'g_c': 0,\n",
    "        'g_d': 0,\n",
    "        'g_e': 0\n",
    "    }\n",
    "    \n",
    "    for _ in range(0, 1000):\n",
    "        x1, x2 = [rd.uniform(-1, 1) for i in range(2)]\n",
    "        rand_point = np.array([1, x1, x2, x1*x2, x1*x1, x1*x2])\n",
    "        my_pred = np.sign(w_nonlin.T.dot(rand_point))\n",
    "        hyp_dict = {\n",
    "            'g_a' : int(np.sign(-1 - 0.05*x1 + 0.08*x2 + 0.13*x1*x2 + 1.50*x1*x1 + 1.50*x2*x2)),\n",
    "            'g_b' : int(np.sign(-1 - 0.05*x1 + 0.08*x2 + 0.13*x1*x2 + 1.50*x1*x1 + 15.0*x2*x2)),\n",
    "            'g_c' : int(np.sign(-1 - 0.05*x1 + 0.08*x2 + 0.13*x1*x2 + 15.0*x1*x1 + 1.50*x2*x2)),\n",
    "            'g_d' : int(np.sign(-1 - 1.50*x1 + 0.08*x2 + 0.13*x1*x2 + 0.05*x1*x1 + 0.05*x2*x2)),\n",
    "            'g_e' : int(np.sign(-1 - 0.05*x1 + 0.08*x2 + 1.50*x1*x2 + 0.15*x1*x1 + 0.15*x2*x2))\n",
    "        }\n",
    "        for hyp_name, hyp_value in hyp_dict.items():\n",
    "            if hyp_value == my_pred:\n",
    "                hyp_count[hyp_name] += 1\n",
    "    print(hyp_count)"
   ]
  },
  {
   "cell_type": "code",
   "execution_count": 44,
   "metadata": {
    "collapsed": false
   },
   "outputs": [
    {
     "data": {
      "text/plain": [
       "'g_e'"
      ]
     },
     "execution_count": 44,
     "metadata": {},
     "output_type": "execute_result"
    }
   ],
   "source": [
    "max(hyp_count)"
   ]
  },
  {
   "cell_type": "code",
   "execution_count": null,
   "metadata": {
    "collapsed": true
   },
   "outputs": [],
   "source": []
  }
 ],
 "metadata": {
  "kernelspec": {
   "display_name": "Python 3",
   "language": "python",
   "name": "python3"
  },
  "language_info": {
   "codemirror_mode": {
    "name": "ipython",
    "version": 3
   },
   "file_extension": ".py",
   "mimetype": "text/x-python",
   "name": "python",
   "nbconvert_exporter": "python",
   "pygments_lexer": "ipython3",
   "version": "3.5.2"
  }
 },
 "nbformat": 4,
 "nbformat_minor": 0
}

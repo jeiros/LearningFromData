{
 "cells": [
  {
   "cell_type": "code",
   "execution_count": 1,
   "metadata": {
    "collapsed": false
   },
   "outputs": [
    {
     "name": "stdout",
     "output_type": "stream",
     "text": [
      "Populating the interactive namespace from numpy and matplotlib\n"
     ]
    },
    {
     "name": "stderr",
     "output_type": "stream",
     "text": [
      "/Users/je714/anaconda3/lib/python3.5/site-packages/matplotlib/__init__.py:461: UserWarning: matplotlibrc ps.usedistiller can not be set to xpdf unless xpdf-3.0 or later is installed on your system\n",
      "  'your system') % pdftops_req)\n"
     ]
    }
   ],
   "source": [
    "%pylab inline"
   ]
  },
  {
   "cell_type": "markdown",
   "metadata": {},
   "source": [
    "# Q1\n",
    "What types of Machine Learning, if any, best describe the following three scenarios:"
   ]
  },
  {
   "cell_type": "markdown",
   "metadata": {},
   "source": [
    "\n",
    "\n",
    "- A coin classification system is created for a vending machine. The developers\n",
    "    obtain exact coin specifications from the U.S. Mint and derive\n",
    "    a statistical model of the size, weight, and denomination, which the vending\n",
    "    machine then uses to classify coins.\n",
    "- Instead of calling the U.S. Mint to obtain coin information, an algorithm is\n",
    "    presented with a large set of labeled coins. The algorithm uses this data to\n",
    "    infer decision boundaries which the vending machine then uses to classify\n",
    "    its coins.\n",
    "- A computer develops a strategy for playing Tic-Tac-Toe by playing repeatedly\n",
    "    and adjusting its strategy by penalizing moves that eventually lead\n",
    "    to losing."
   ]
  },
  {
   "cell_type": "markdown",
   "metadata": {},
   "source": [
    "[a] (i) Supervised Learning, (ii) Unsupervised Learning, (iii) Reinforcement\n",
    "Learning\n",
    "\n",
    "[b] (i) Supervised Learning, (ii) Not learning, (iii) Unsupervised Learning\n",
    "\n",
    "[c] (i) Not learning, (ii) Reinforcement Learning, (iii) Supervised Learning\n",
    "\n",
    "[d] (i) Not learning, (ii) Supervised Learning, (iii) Reinforcement Learning\n",
    "\n",
    "[e] (i) Supervised Learning, (ii) Reinforcement Learning, (iii) Unsupervised\n",
    "Learning"
   ]
  },
  {
   "cell_type": "markdown",
   "metadata": {},
   "source": [
    "#### Answer: [d]\n",
    "(i) **Not learning:** Is not using any data, it's just deriving a mathematical model for the relationship between size, weight and denomination of coins\n",
    "\n",
    "(ii) Is using *labeled* data so it's a **supervised learning** approach\n",
    "\n",
    "(iii) This is a **reinforcement learning** scenario with feedback on the moves."
   ]
  },
  {
   "cell_type": "markdown",
   "metadata": {},
   "source": [
    "# Q2\n",
    "Which of the following problems are best suited for Machine Learning?"
   ]
  },
  {
   "cell_type": "markdown",
   "metadata": {},
   "source": [
    "- (i) Classifying numbers into primes and non-primes.\n",
    "\n",
    "- (ii) Detecting potential fraud in credit card charges.\n",
    "\n",
    "- (iii) Determining the time it would take a falling object to hit the ground.\n",
    "\n",
    "- (iv) Determining the optimal cycle for traffic lights in a busy intersection."
   ]
  },
  {
   "cell_type": "markdown",
   "metadata": {},
   "source": [
    "[a] (ii) and (iv)\n",
    "\n",
    "[b] (i) and (ii)\n",
    "\n",
    "[c] (i), (ii), and (iii)\n",
    "\n",
    "[d] (iii)\n",
    "\n",
    "[e] (i) and (iii)"
   ]
  },
  {
   "cell_type": "markdown",
   "metadata": {},
   "source": [
    "#### Answer: [a]\n",
    "(i) This problem needs a mathematical derivation because we need an exact solution to it, and we are most likely interested in understanding the mathematical underpinnings of it anyway.\n",
    "\n",
    "(ii) This is a good problem for ML since the true mathematical basis for fraud can be very complex but we can use big amounts of historical data to create a predictive model.\n",
    "\n",
    "(iii) This is a physics problem. It could be solved using ML to understand experimental data but the physics behind it are well understood so we can derive a mathematical model easily which will be more exact.\n",
    "\n",
    "(iv) This is a highgly complex problem which probably depends on a lot of factors and therefore it can be difficult to find the mathematical basis of it."
   ]
  },
  {
   "cell_type": "markdown",
   "metadata": {},
   "source": [
    "# Q3\n",
    "We have 2 opaque bags, each containing 2 balls. One bag has 2 black balls and\n",
    "the other has a black ball and a white ball. You pick a bag at random and\n",
    "then pick one of the balls in that bag at random. When you look at the ball,\n",
    "it is black. You now pick the second ball from that same bag. What is the\n",
    "probability that this ball is also black?"
   ]
  },
  {
   "cell_type": "markdown",
   "metadata": {},
   "source": [
    "- [a] 1/4\n",
    "\n",
    "- [b] 1/3\n",
    "\n",
    "- [c] 1/2\n",
    "\n",
    "- [d] 2/3\n",
    "\n",
    "- [e] 3/4"
   ]
  },
  {
   "cell_type": "markdown",
   "metadata": {},
   "source": [
    "#### Answer: [d]"
   ]
  },
  {
   "cell_type": "code",
   "execution_count": 2,
   "metadata": {
    "collapsed": false
   },
   "outputs": [
    {
     "name": "stdout",
     "output_type": "stream",
     "text": [
      "0.75121\n"
     ]
    }
   ],
   "source": [
    "game = {\n",
    "    'bag1' : ['b', 'b'],\n",
    "    'bag2' : ['b', 'w']\n",
    "}\n",
    "import random\n",
    "black_second = 0\n",
    "for i in range(0, 100000):\n",
    "    bag_choice = random.choice(list(game.keys()))\n",
    "    first_ball_id = random.randint(0, 1)\n",
    "    if first_ball_id == 0:\n",
    "        second_ball = game[bag_choice][1]\n",
    "    else:\n",
    "        second_ball = game[bag_choice][0]\n",
    "    if second_ball == 'b':\n",
    "        black_second += 1\n",
    "print(black_second/100000)"
   ]
  },
  {
   "cell_type": "markdown",
   "metadata": {},
   "source": [
    "Consider a sample of 10 marbles drawn from a bin containing red and green marbles.\n",
    "The probability that any marble we draw is red is µ = 0.55 (independently, with\n",
    "replacement). We address the probability of getting no red marbles (ν = 0) in the\n",
    "following cases:"
   ]
  },
  {
   "cell_type": "markdown",
   "metadata": {},
   "source": [
    "# Q4\n",
    "We draw only one such sample. Compute the probability that ν = 0. The\n",
    "closest answer is (‘closest answer’ means: |your answer−given option| is closest\n",
    "to 0):"
   ]
  },
  {
   "cell_type": "markdown",
   "metadata": {},
   "source": [
    "- [a] $7.331 \\times 10^{−6}$\n",
    "\n",
    "- [b] $3.405 \\times 10^{−4}$\n",
    "\n",
    "- [c] $0.289$\n",
    "\n",
    "- [d] $0.450$\n",
    "\n",
    "- [e] $0.550$"
   ]
  },
  {
   "cell_type": "markdown",
   "metadata": {},
   "source": [
    "#### Answer: [b]"
   ]
  },
  {
   "cell_type": "markdown",
   "metadata": {},
   "source": [
    "The probability of getting a sample of 10 green balls is $(1 - \\mu)^{10}$, so:"
   ]
  },
  {
   "cell_type": "code",
   "execution_count": 3,
   "metadata": {
    "collapsed": false
   },
   "outputs": [
    {
     "name": "stdout",
     "output_type": "stream",
     "text": [
      "Difference between my answer and [b] is : 0.000000\n"
     ]
    }
   ],
   "source": [
    "b = 3.405e-4\n",
    "my_answer = pow(1-0.55, 10)\n",
    "print('Difference between my answer and [b] is : %f' % abs(b - my_answer))"
   ]
  },
  {
   "cell_type": "markdown",
   "metadata": {},
   "source": [
    "# Q5\n",
    "We draw 1,000 independent samples. Compute the probability that (at least)\n",
    "one of the samples has ν = 0. The closest answer is:\n",
    "\n",
    "- [a] $7.331 \\times 10^{−6}$\n",
    "\n",
    "- [b] $3.405 \\times 10^{−4}$\n",
    "\n",
    "- [c] $0.289$\n",
    "\n",
    "- [d] $0.450$\n",
    "\n",
    "- [e] $0.550$"
   ]
  },
  {
   "cell_type": "markdown",
   "metadata": {},
   "source": [
    "#### Answer: [c]"
   ]
  },
  {
   "cell_type": "code",
   "execution_count": 4,
   "metadata": {
    "collapsed": false
   },
   "outputs": [],
   "source": [
    "def calcProb(x):\n",
    "    return(1 - ((1 - pow(1 - x, 10)) ** 1000))"
   ]
  },
  {
   "cell_type": "code",
   "execution_count": 5,
   "metadata": {
    "collapsed": false
   },
   "outputs": [
    {
     "data": {
      "text/plain": [
       "0.28863119784980995"
      ]
     },
     "execution_count": 5,
     "metadata": {},
     "output_type": "execute_result"
    }
   ],
   "source": [
    "calcProb(0.55)"
   ]
  },
  {
   "cell_type": "code",
   "execution_count": 6,
   "metadata": {
    "collapsed": false
   },
   "outputs": [
    {
     "data": {
      "image/png": "[encoded data removed]",
      "text/plain": [
       "<matplotlib.figure.Figure at 0x10c85c940>"
      ]
     },
     "metadata": {},
     "output_type": "display_data"
    }
   ],
   "source": [
    "import seaborn as sns\n",
    "sns.set_context(\"notebook\", font_scale=1.5, rc={\"lines.linewidth\": 2.5})\n",
    "with sns.axes_style('whitegrid'):\n",
    "    plot(np.linspace(0, 1, 1000), [calcProb(x) for x in np.linspace(0, 1, 1000)])\n",
    "    xlabel('$\\mu$')\n",
    "    title('$\\mathsf{M}=1000$ $\\mathsf{N}=10$')"
   ]
  },
  {
   "cell_type": "markdown",
   "metadata": {
    "collapsed": true
   },
   "source": [
    "# The Perceptron Learning Algorithm"
   ]
  },
  {
   "cell_type": "markdown",
   "metadata": {},
   "source": [
    "In this problem, you will create your own target function f and data set D to see\n",
    "how the Perceptron Learning Algorithm works. Take d = 2 so you can visualize the\n",
    "problem, and assume $\\chi$ = [−1, 1] × [−1, 1] with uniform probability of picking each\n",
    "x ∈ $\\chi$ .\n",
    "\n",
    "In each run, choose a random line in the plane as your target function f (do this by\n",
    "taking two random, uniformly distributed points in [−1, 1] × [−1, 1] and taking the\n",
    "line passing through them), where one side of the line maps to +1 and the other maps\n",
    "to −1. Choose the inputs xn of the data set as random points (uniformly in $\\mathbf{x}_n$ ), and\n",
    "evaluate the target function on each xn to get the corresponding output $y_n$.\n",
    "\n",
    "Now, in each run, use the Perceptron Learning Algorithm to find g. Start the PLA\n",
    "with the weight vector $\\mathbf{w}$ being all zeros (consider sign(0) = 0, so all points are initially\n",
    "misclassified), and at each iteration have the algorithm choose a point randomly\n",
    "from the set of misclassified points. We are interested in two quantities: the number\n",
    "of iterations that PLA takes to converge to g, and the disagreement between f and\n",
    "g which is $\\mathbb{P}[f(\\mathbf{x}) \\neq g(\\mathbf{x})]$ (the probability that f and g will disagree on their classification\n",
    "of a random point). You can either calculate this probability exactly, or\n",
    "approximate it by generating a sufficiently large, separate set of points to estimate it.\n",
    "In order to get a reliable estimate for these two quantities, you should repeat the\n",
    "experiment for 1000 runs (each run as specified above) and take the average over\n",
    "these runs"
   ]
  },
  {
   "cell_type": "code",
   "execution_count": 345,
   "metadata": {
    "collapsed": true
   },
   "outputs": [],
   "source": [
    "import numpy as np\n",
    "import random\n",
    "import os\n",
    "import subprocess\n",
    "\n",
    "\n",
    "class Perceptron(object):\n",
    "\n",
    "    def __init__(self, N):\n",
    "        # Random linearly separated data\n",
    "        xA, yA, xB, yB = [random.uniform(-1, 1) for i in range(4)]\n",
    "        self.V = np.array([xB * yA - xA * yB, yB - yA, xA - xB])\n",
    "        self.X = self.generate_points(N)\n",
    "\n",
    "    def generate_points(self, N):\n",
    "        X = []\n",
    "        for i in range(N):\n",
    "            x1, x2 = [random.uniform(-1, 1) for i in range(2)]\n",
    "            x = np.array([1, x1, x2])\n",
    "            s = int(np.sign(self.V.T.dot(x)))\n",
    "            X.append((x, s))\n",
    "        return X\n",
    "\n",
    "    def plot(self, mispts=None, vec=None, save=False):\n",
    "        fig = plt.figure(figsize=(5, 5))\n",
    "        plt.xlim(-1, 1)\n",
    "        plt.ylim(-1, 1)\n",
    "        V = self.V\n",
    "        a, b = -V[1] / V[2], -V[0] / V[2]\n",
    "        l = np.linspace(-1, 1)\n",
    "        plt.plot(l, a * l + b, 'k-')\n",
    "        cols = {1: 'r', -1: 'b'}\n",
    "        for x, s in self.X:\n",
    "            plt.plot(x[1], x[2], cols[s] + 'o')\n",
    "        if mispts:\n",
    "            for x, s in mispts:\n",
    "                plt.plot(x[1], x[2], cols[s] + '.')\n",
    "        if vec is not None:\n",
    "            aa, bb = -vec[1] / vec[2], -vec[0] / vec[2]\n",
    "            plt.plot(l, aa * l + bb, 'g-', lw=2)\n",
    "        if save:\n",
    "            if not mispts:\n",
    "                plt.title('N = %s' % (str(len(self.X))))\n",
    "            else:\n",
    "                plt.title('N = %s with %s test points'\n",
    "                          % (str(len(self.X)), str(len(mispts))))\n",
    "            plt.savefig('p_N%s' % (str(len(self.X))),\n",
    "                        dpi=200, bbox_inches='tight')\n",
    "\n",
    "    def classification_error(self, vec, pts=None):\n",
    "        # Error defined as fraction of misclassified points\n",
    "        if not pts:\n",
    "            pts = self.X\n",
    "        M = len(pts)\n",
    "        n_mispts = 0\n",
    "        for x, s in pts:\n",
    "            if int(np.sign(vec.T.dot(x))) != s:\n",
    "                n_mispts += 1\n",
    "        error = n_mispts / float(M)\n",
    "        return error\n",
    "\n",
    "    def choose_miscl_point(self, vec):\n",
    "        # Choose a random point among the misclassified\n",
    "        pts = self.X\n",
    "        mispts = []\n",
    "        for x, s in pts:\n",
    "            if int(np.sign(vec.T.dot(x))) != s:\n",
    "                mispts.append((x, s))\n",
    "        return mispts[random.randrange(0, len(mispts))]\n",
    "\n",
    "    def pla(self, save=False):\n",
    "        # Initialize the weigths to zeros\n",
    "        w = np.zeros(3)\n",
    "        X, N = self.X, len(self.X)\n",
    "        it = 0\n",
    "        # Iterate until all points are correctly classified\n",
    "        while self.classification_error(w) != 0:\n",
    "            it += 1\n",
    "            # Pick random misclassified point\n",
    "            x, s = self.choose_miscl_point(w)\n",
    "            # Update weights\n",
    "            w += s * x\n",
    "            if save:\n",
    "                self.plot(vec=w)\n",
    "                plt.title('N = %s, Iteration %s\\n'\n",
    "                          % (str(N), str(it)))\n",
    "                plt.show()\n",
    "                # plt.savefig('p_N%s_it%s' % (str(N),str(it)), \\\n",
    "                #            dpi=200, bbox_inches='tight')\n",
    "        self.w = w\n",
    "\n",
    "        return(it, self.estimate_disagreement(vec=self.w))\n",
    "\n",
    "\n",
    "\n",
    "    def estimate_disagreement(self, vec, N=1000):\n",
    "        error = 0\n",
    "        for _ in range(N):\n",
    "            x1, x2 = [random.uniform(-1, 1) for i in range(2)]\n",
    "            x = np.array([1, x1, x2])\n",
    "            s_f = int(np.sign(self.V.T.dot(x)))\n",
    "            s_g = int(np.sign(vec.T.dot(x)))\n",
    "            if s_f != s_g:\n",
    "                error += 1\n",
    "        return(error / N)\n",
    "\n",
    "    def check_error(self, M, vec):\n",
    "        check_pts = self.generate_points(M)\n",
    "        return self.classification_error(vec, pts=check_pts)\n"
   ]
  },
  {
   "cell_type": "code",
   "execution_count": 338,
   "metadata": {
    "collapsed": false
   },
   "outputs": [
    {
     "data": {
      "text/plain": [
       "0.0245292"
      ]
     },
     "execution_count": 338,
     "metadata": {},
     "output_type": "execute_result"
    }
   ],
   "source": [
    "p = Perceptron(10)\n",
    "p.pla(print_it=False)"
   ]
  },
  {
   "cell_type": "code",
   "execution_count": 322,
   "metadata": {
    "collapsed": false
   },
   "outputs": [],
   "source": [
    "w = np.zeros(3)\n",
    "xA, yA, xB, yB = [random.uniform(-1, 1) for i in range(4)]\n",
    "V = np.array([xB * yA - xA * yB, yB - yA, xA - xB])\n",
    "X = Perceptron.generate_points(p, N=10)"
   ]
  },
  {
   "cell_type": "code",
   "execution_count": 346,
   "metadata": {
    "collapsed": false
   },
   "outputs": [],
   "source": [
    "err_tot = 0\n",
    "its = 0\n",
    "for _ in range(1000):\n",
    "    p = Perceptron(100)\n",
    "    it, error = p.pla()\n",
    "    err_tot += error\n",
    "    its += it\n"
   ]
  },
  {
   "cell_type": "code",
   "execution_count": 347,
   "metadata": {
    "collapsed": false
   },
   "outputs": [
    {
     "data": {
      "text/plain": [
       "0.013200999999999956"
      ]
     },
     "execution_count": 347,
     "metadata": {},
     "output_type": "execute_result"
    }
   ],
   "source": [
    "err_tot/1000"
   ]
  },
  {
   "cell_type": "code",
   "execution_count": 348,
   "metadata": {
    "collapsed": false
   },
   "outputs": [
    {
     "data": {
      "text/plain": [
       "119.067"
      ]
     },
     "execution_count": 348,
     "metadata": {},
     "output_type": "execute_result"
    }
   ],
   "source": [
    "its/1000"
   ]
  },
  {
   "cell_type": "code",
   "execution_count": null,
   "metadata": {
    "collapsed": true
   },
   "outputs": [],
   "source": []
  }
 ],
 "metadata": {
  "kernelspec": {
   "display_name": "Python 3",
   "language": "python",
   "name": "python3"
  },
  "language_info": {
   "codemirror_mode": {
    "name": "ipython",
    "version": 3
   },
   "file_extension": ".py",
   "mimetype": "text/x-python",
   "name": "python",
   "nbconvert_exporter": "python",
   "pygments_lexer": "ipython3",
   "version": "3.5.2"
  }
 },
 "nbformat": 4,
 "nbformat_minor": 0
}
